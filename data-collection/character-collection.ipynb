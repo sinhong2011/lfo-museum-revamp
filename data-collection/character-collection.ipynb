{
 "cells": [
  {
   "cell_type": "code",
   "execution_count": 3,
   "metadata": {},
   "outputs": [
    {
     "name": "stdout",
     "output_type": "stream",
     "text": [
      "['davis', 'stinky', 'cuite', 'dennis', 'woody', 'jessie', 'milo', 'ricky', 'victor', 'fuku', 'heng', 'judi', 'freeze', 'firen', 'windy', 'fox', 'john', 'deep', 'henry', 'rudolf', 'knight', 'jan', 'witch', 'lava', 'bat', 'julian', 'firzen', 'louis', 'louisex', 'omegah', 'kiki', 'paco', 'jace', 'chester', 'sun', 'yuenmu', 'tobi', 'anya', 'rova', 'gaia', 'uranus', 'tiga', 'nina', 'owen', 'dilun', 'zack', 'stmary', 'odom', 'sola', 'habo', 'king', 'chiyua', 'ruwa', 'hector', 'molson', 'jagr', 'kovalchuk', 'marek', 'bloodraven', 'blake', 'ava', 'yungsum', 'android', 'tasuke', 'ninjaking', 'jaro', 'yuki', 'tuka', 'kigai', 'fire_apostle', 'ice_apostle', 'lit', 'shark', 'darkdavis', 'darkstinky', 'darkcutie', 'darkfiren', 'darkfreeze', 'darkruwa', 'darkking', 'darkchiyua', 'darklastevil', 'hanzou', 'asyura', 'boo', 'marcus', 'zhida', 'phoenix', 'shiloh', 'mudi', 'sora', 'bone', 'rowan', 'diluns', 'gm', 'duncun', 'banick', 'olivia', 'xander', 'code', 'damian', 'pokai', 'karl', 'landon']\n"
     ]
    }
   ],
   "source": [
    "import requests\n",
    "from bs4 import BeautifulSoup\n",
    "\n",
    "url = \"https://sites.google.com/site/lfostory/index2/character\"\n",
    "response = requests.get(url)\n",
    "html_content = response.content\n",
    "\n",
    "soup = BeautifulSoup(html_content, \"html.parser\")\n",
    "\n",
    "character_links = soup.find_all(\"a\", href=lambda href: href and href.startswith(\"https://sites.google.com/site/lfostory/index2/character/\"))\n",
    "\n",
    "character_names = []\n",
    "\n",
    "for link in character_links:\n",
    "    character_name = link[\"href\"].replace(\"https://sites.google.com/site/lfostory/index2/character/\", \"\")\n",
    "    character_names.append(character_name)\n",
    "\n",
    "print(character_names)"
   ]
  },
  {
   "cell_type": "code",
   "execution_count": 42,
   "metadata": {},
   "outputs": [],
   "source": [
    "# Print the character names in a numbered list\n",
    "# for i, name in enumerate(character_names, start=1):\n",
    "#     print(f\"{i}. {name}\")\n",
    "\n",
    "\n",
    "def extract_character_info(name):\n",
    "    profile = {\"name\": name}\n",
    "    character_profile_url = url + \"/\" + name\n",
    "\n",
    "    response = requests.get(character_profile_url)\n",
    "    html_content = response.content\n",
    "    soup = BeautifulSoup(html_content, \"html.parser\")\n",
    "\n",
    "    for font in soup.find_all(\"font\"):\n",
    "        elmnt = font.find_parent().find_next_sibling()\n",
    "        if font.text == \"出生地\":\n",
    "            profile[\"place_of_birth\"] = elmnt.text.strip()\n",
    "        if font.text == \"身份\":\n",
    "            profile[\"identity\"] = elmnt.text.strip()\n",
    "        if font.text == \"實裝版本\":\n",
    "            profile[\"installation_version\"] = elmnt.text.strip()\n",
    "        if font.text == \"~角色簡介~\":\n",
    "            profile[\"description\"] = elmnt.text.strip()\n",
    "    \n",
    "    for td in soup.find_all(\"td\"):\n",
    "        if td.text == \"戰鬥方式\":\n",
    "            elmnt = td.find_next_sibling()\n",
    "            profile[\"fight_style\"] = elmnt.text.strip()\n",
    "\n",
    "    return profile"
   ]
  },
  {
   "cell_type": "code",
   "execution_count": 43,
   "metadata": {},
   "outputs": [
    {
     "name": "stdout",
     "output_type": "stream",
     "text": [
      "\n",
      "剛轉校來文光中學的插班生，也是搏擊社的新隊員，為人沖動火爆，十分自大，對米兒一見鐘情，加入搏擊社的最大原因，都是為了親近米兒。\n",
      "\n",
      "\n",
      "\n",
      "{'name': 'stinky', 'place_of_birth': '中國', 'identity': '學生/元鬥士', 'installation_version': 'v1.0\\xa0始祖力量篇', 'fight_style': '元力'}\n"
     ]
    }
   ],
   "source": [
    "characters_profile = []\n",
    "\n",
    "character_info = extract_character_info(\"stinky\")\n",
    "\n",
    "print(character_info)"
   ]
  }
 ],
 "metadata": {
  "kernelspec": {
   "display_name": "Python 3",
   "language": "python",
   "name": "python3"
  },
  "language_info": {
   "codemirror_mode": {
    "name": "ipython",
    "version": 3
   },
   "file_extension": ".py",
   "mimetype": "text/x-python",
   "name": "python",
   "nbconvert_exporter": "python",
   "pygments_lexer": "ipython3",
   "version": "3.9.6"
  },
  "orig_nbformat": 4
 },
 "nbformat": 4,
 "nbformat_minor": 2
}
